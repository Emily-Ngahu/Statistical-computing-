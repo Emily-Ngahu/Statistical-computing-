{
 "cells": [
  {
   "cell_type": "code",
   "execution_count": 3,
   "id": "70ff2131",
   "metadata": {},
   "outputs": [
    {
     "data": {
      "text/html": [
       "<dl>\n",
       "\t<dt>$maximum</dt>\n",
       "\t\t<dd>4.00006025273906</dd>\n",
       "\t<dt>$objective</dt>\n",
       "\t\t<dd>0.540400769544426</dd>\n",
       "</dl>\n"
      ],
      "text/latex": [
       "\\begin{description}\n",
       "\\item[\\$maximum] 4.00006025273906\n",
       "\\item[\\$objective] 0.540400769544426\n",
       "\\end{description}\n"
      ],
      "text/markdown": [
       "$maximum\n",
       ":   4.00006025273906\n",
       "$objective\n",
       ":   0.540400769544426\n",
       "\n",
       "\n"
      ],
      "text/plain": [
       "$maximum\n",
       "[1] 4.00006\n",
       "\n",
       "$objective\n",
       "[1] 0.5404008\n"
      ]
     },
     "metadata": {},
     "output_type": "display_data"
    },
    {
     "data": {
      "image/png": "[encoded data removed]",
      "text/plain": [
       "plot without title"
      ]
     },
     "metadata": {
      "image/png": {
       "height": 420,
       "width": 420
      }
     },
     "output_type": "display_data"
    }
   ],
   "source": [
    "f<-function(x){\n",
    "    log(1 + log(x))/log(1+x)\n",
    "}\n",
    "curve(f(x),from=2,to=15,ylab='f(x)')\n",
    "optimize(f,lower=4,upper=8,maximum=TRUE)"
   ]
  },
  {
   "cell_type": "code",
   "execution_count": 14,
   "id": "cd297f88",
   "metadata": {},
   "outputs": [
    {
     "ename": "ERROR",
     "evalue": "Error in fn(par, ...): argument \"sig\" is missing, with no default\n",
     "output_type": "error",
     "traceback": [
      "Error in fn(par, ...): argument \"sig\" is missing, with no default\nTraceback:\n",
      "1. optim(par = c(2, 1), fn = negloglik, x = xsim)",
      "2. (function (par) \n . fn(par, ...))(c(2, 1))",
      "3. fn(par, ...)"
     ]
    }
   ],
   "source": [
    "negloglik<-function(mu,sig,x){\n",
    "    n<-length(x)\n",
    "    val<-(-((n/2)*log(sig^2))-((n/2)*log(2*pi))-((1/(2*sig^2)))*sum((x-mu)^2))\n",
    "    return(-val)\n",
    "}\n",
    "xsim<-rnorm(1000,5,3)\n",
    "mle<-optim(par=c(2,1),fn=negloglik,x=xsim)\n",
    "mle"
   ]
  },
  {
   "cell_type": "code",
   "execution_count": 16,
   "id": "4525d584",
   "metadata": {},
   "outputs": [
    {
     "data": {
      "text/html": [
       "<dl>\n",
       "\t<dt>$par</dt>\n",
       "\t\t<dd><style>\n",
       ".list-inline {list-style: none; margin:0; padding: 0}\n",
       ".list-inline>li {display: inline-block}\n",
       ".list-inline>li:not(:last-child)::after {content: \"\\00b7\"; padding: 0 .5ex}\n",
       "</style>\n",
       "<ol class=list-inline><li>5.0932694216348</li><li>2.91398783894747</li></ol>\n",
       "</dd>\n",
       "\t<dt>$value</dt>\n",
       "\t\t<dd>2488.66009819586</dd>\n",
       "\t<dt>$counts</dt>\n",
       "\t\t<dd><style>\n",
       ".dl-inline {width: auto; margin:0; padding: 0}\n",
       ".dl-inline>dt, .dl-inline>dd {float: none; width: auto; display: inline-block}\n",
       ".dl-inline>dt::after {content: \":\\0020\"; padding-right: .5ex}\n",
       ".dl-inline>dt:not(:first-of-type) {padding-left: .5ex}\n",
       "</style><dl class=dl-inline><dt>function</dt><dd>65</dd><dt>gradient</dt><dd>&lt;NA&gt;</dd></dl>\n",
       "</dd>\n",
       "\t<dt>$convergence</dt>\n",
       "\t\t<dd>0</dd>\n",
       "\t<dt>$message</dt>\n",
       "\t\t<dd>NULL</dd>\n",
       "</dl>\n"
      ],
      "text/latex": [
       "\\begin{description}\n",
       "\\item[\\$par] \\begin{enumerate*}\n",
       "\\item 5.0932694216348\n",
       "\\item 2.91398783894747\n",
       "\\end{enumerate*}\n",
       "\n",
       "\\item[\\$value] 2488.66009819586\n",
       "\\item[\\$counts] \\begin{description*}\n",
       "\\item[function] 65\n",
       "\\item[gradient] <NA>\n",
       "\\end{description*}\n",
       "\n",
       "\\item[\\$convergence] 0\n",
       "\\item[\\$message] NULL\n",
       "\\end{description}\n"
      ],
      "text/markdown": [
       "$par\n",
       ":   1. 5.0932694216348\n",
       "2. 2.91398783894747\n",
       "\n",
       "\n",
       "\n",
       "$value\n",
       ":   2488.66009819586\n",
       "$counts\n",
       ":   function\n",
       ":   65gradient\n",
       ":   &lt;NA&gt;\n",
       "\n",
       "\n",
       "$convergence\n",
       ":   0\n",
       "$message\n",
       ":   NULL\n",
       "\n",
       "\n"
      ],
      "text/plain": [
       "$par\n",
       "[1] 5.093269 2.913988\n",
       "\n",
       "$value\n",
       "[1] 2488.66\n",
       "\n",
       "$counts\n",
       "function gradient \n",
       "      65       NA \n",
       "\n",
       "$convergence\n",
       "[1] 0\n",
       "\n",
       "$message\n",
       "NULL\n"
      ]
     },
     "metadata": {},
     "output_type": "display_data"
    }
   ],
   "source": [
    "negloglik <- function(par, x) {\n",
    "    mu <- par[1]\n",
    "    sig <- par[2]\n",
    "    n <- length(x)\n",
    "    val <- (-((n / 2) * log(sig^2)) - ((n / 2) * log(2 * pi)) - ((1 / (2 * sig^2))) * sum((x - mu)^2))\n",
    "    return(-val)\n",
    "}\n",
    "\n",
    "xsim <- rnorm(1000, 5, 3)\n",
    "mle <- optim(par = c(2, 1), fn = negloglik, x = xsim)\n",
    "mle"
   ]
  },
  {
   "cell_type": "code",
   "execution_count": 22,
   "id": "d3a1b90e",
   "metadata": {},
   "outputs": [
    {
     "data": {
      "text/html": [
       "<dl>\n",
       "\t<dt>$par</dt>\n",
       "\t\t<dd><style>\n",
       ".list-inline {list-style: none; margin:0; padding: 0}\n",
       ".list-inline>li {display: inline-block}\n",
       ".list-inline>li:not(:last-child)::after {content: \"\\00b7\"; padding: 0 .5ex}\n",
       "</style>\n",
       "<ol class=list-inline><li>5.00468064978923</li><li>2.98563758643723</li></ol>\n",
       "</dd>\n",
       "\t<dt>$value</dt>\n",
       "\t\t<dd>2512.36178055946</dd>\n",
       "\t<dt>$counts</dt>\n",
       "\t\t<dd><style>\n",
       ".dl-inline {width: auto; margin:0; padding: 0}\n",
       ".dl-inline>dt, .dl-inline>dd {float: none; width: auto; display: inline-block}\n",
       ".dl-inline>dt::after {content: \":\\0020\"; padding-right: .5ex}\n",
       ".dl-inline>dt:not(:first-of-type) {padding-left: .5ex}\n",
       "</style><dl class=dl-inline><dt>function</dt><dd>65</dd><dt>gradient</dt><dd>&lt;NA&gt;</dd></dl>\n",
       "</dd>\n",
       "\t<dt>$convergence</dt>\n",
       "\t\t<dd>0</dd>\n",
       "\t<dt>$message</dt>\n",
       "\t\t<dd>NULL</dd>\n",
       "</dl>\n"
      ],
      "text/latex": [
       "\\begin{description}\n",
       "\\item[\\$par] \\begin{enumerate*}\n",
       "\\item 5.00468064978923\n",
       "\\item 2.98563758643723\n",
       "\\end{enumerate*}\n",
       "\n",
       "\\item[\\$value] 2512.36178055946\n",
       "\\item[\\$counts] \\begin{description*}\n",
       "\\item[function] 65\n",
       "\\item[gradient] <NA>\n",
       "\\end{description*}\n",
       "\n",
       "\\item[\\$convergence] 0\n",
       "\\item[\\$message] NULL\n",
       "\\end{description}\n"
      ],
      "text/markdown": [
       "$par\n",
       ":   1. 5.00468064978923\n",
       "2. 2.98563758643723\n",
       "\n",
       "\n",
       "\n",
       "$value\n",
       ":   2512.36178055946\n",
       "$counts\n",
       ":   function\n",
       ":   65gradient\n",
       ":   &lt;NA&gt;\n",
       "\n",
       "\n",
       "$convergence\n",
       ":   0\n",
       "$message\n",
       ":   NULL\n",
       "\n",
       "\n"
      ],
      "text/plain": [
       "$par\n",
       "[1] 5.004681 2.985638\n",
       "\n",
       "$value\n",
       "[1] 2512.362\n",
       "\n",
       "$counts\n",
       "function gradient \n",
       "      65       NA \n",
       "\n",
       "$convergence\n",
       "[1] 0\n",
       "\n",
       "$message\n",
       "NULL\n"
      ]
     },
     "metadata": {},
     "output_type": "display_data"
    }
   ],
   "source": [
    "negloglik <- function(par, x) {\n",
    "    mu <- par[1]\n",
    "    sig <- par[2]\n",
    "    n <- length(x)\n",
    "    val <- (-((n / 2) * log(sig^2)) - ((n / 2) * log(2 * pi)) - ((1 / (2 * sig^2))) * sum((x - mu)^2))\n",
    "    return(-val)\n",
    "}\n",
    "\n",
    "xsim <- rnorm(1000, 5, 3)\n",
    "mle <- optim(par = c(2, 1), fn = negloglik, x = xsim)\n",
    "mle"
   ]
  },
  {
   "cell_type": "markdown",
   "id": "ce41a61b",
   "metadata": {},
   "source": [
    "by default,optim is  a minimization function \n",
    "Apply other methods to find the initial value eg MME\n",
    "FGS\n",
    "FBGS\n",
    "FLGFBS"
   ]
  },
  {
   "cell_type": "code",
   "execution_count": 26,
   "id": "e6d6b3aa",
   "metadata": {},
   "outputs": [
    {
     "data": {
      "text/html": [
       "<dl>\n",
       "\t<dt>$par</dt>\n",
       "\t\t<dd>4.95699961734756</dd>\n",
       "\t<dt>$value</dt>\n",
       "\t\t<dd>2245.90395617304</dd>\n",
       "\t<dt>$counts</dt>\n",
       "\t\t<dd><style>\n",
       ".dl-inline {width: auto; margin:0; padding: 0}\n",
       ".dl-inline>dt, .dl-inline>dd {float: none; width: auto; display: inline-block}\n",
       ".dl-inline>dt::after {content: \":\\0020\"; padding-right: .5ex}\n",
       ".dl-inline>dt:not(:first-of-type) {padding-left: .5ex}\n",
       "</style><dl class=dl-inline><dt>function</dt><dd>8</dd><dt>gradient</dt><dd>8</dd></dl>\n",
       "</dd>\n",
       "\t<dt>$convergence</dt>\n",
       "\t\t<dd>0</dd>\n",
       "\t<dt>$message</dt>\n",
       "\t\t<dd>'CONVERGENCE: REL_REDUCTION_OF_F &lt;= FACTR*EPSMCH'</dd>\n",
       "</dl>\n"
      ],
      "text/latex": [
       "\\begin{description}\n",
       "\\item[\\$par] 4.95699961734756\n",
       "\\item[\\$value] 2245.90395617304\n",
       "\\item[\\$counts] \\begin{description*}\n",
       "\\item[function] 8\n",
       "\\item[gradient] 8\n",
       "\\end{description*}\n",
       "\n",
       "\\item[\\$convergence] 0\n",
       "\\item[\\$message] 'CONVERGENCE: REL\\_REDUCTION\\_OF\\_F <= FACTR*EPSMCH'\n",
       "\\end{description}\n"
      ],
      "text/markdown": [
       "$par\n",
       ":   4.95699961734756\n",
       "$value\n",
       ":   2245.90395617304\n",
       "$counts\n",
       ":   function\n",
       ":   8gradient\n",
       ":   8\n",
       "\n",
       "\n",
       "$convergence\n",
       ":   0\n",
       "$message\n",
       ":   'CONVERGENCE: REL_REDUCTION_OF_F &lt;= FACTR*EPSMCH'\n",
       "\n",
       "\n"
      ],
      "text/plain": [
       "$par\n",
       "[1] 4.957\n",
       "\n",
       "$value\n",
       "[1] 2245.904\n",
       "\n",
       "$counts\n",
       "function gradient \n",
       "       8        8 \n",
       "\n",
       "$convergence\n",
       "[1] 0\n",
       "\n",
       "$message\n",
       "[1] \"CONVERGENCE: REL_REDUCTION_OF_F <= FACTR*EPSMCH\"\n"
      ]
     },
     "metadata": {},
     "output_type": "display_data"
    }
   ],
   "source": [
    "negpoislik<-function(data,lam){\n",
    "    val<-sum(dpois(x=data,lambda=lam,log=TRUE))\n",
    "    return(-val)\n",
    "}\n",
    "data.sim<-rpois(1000,5)\n",
    "mlepois<-optim(par=2,fn= negpoislik,data=data.sim,method=\"L-BFGS-B\")\n",
    "mlepois"
   ]
  },
  {
   "cell_type": "code",
   "execution_count": 34,
   "id": "da6f8b33",
   "metadata": {},
   "outputs": [
    {
     "data": {
      "text/html": [
       "<style>\n",
       ".list-inline {list-style: none; margin:0; padding: 0}\n",
       ".list-inline>li {display: inline-block}\n",
       ".list-inline>li:not(:last-child)::after {content: \"\\00b7\"; padding: 0 .5ex}\n",
       "</style>\n",
       "<ol class=list-inline><li>4.2554026850766</li><li>1.96226741351865</li><li>1.02814217155186</li></ol>\n"
      ],
      "text/latex": [
       "\\begin{enumerate*}\n",
       "\\item 4.2554026850766\n",
       "\\item 1.96226741351865\n",
       "\\item 1.02814217155186\n",
       "\\end{enumerate*}\n"
      ],
      "text/markdown": [
       "1. 4.2554026850766\n",
       "2. 1.96226741351865\n",
       "3. 1.02814217155186\n",
       "\n",
       "\n"
      ],
      "text/plain": [
       "[1] 4.255403 1.962267 1.028142"
      ]
     },
     "metadata": {},
     "output_type": "display_data"
    }
   ],
   "source": [
    "neglikreg<-function(par,y,x){\n",
    "    n<-length(x)\n",
    "    B0<-par[1]\n",
    "    B1<-par[2]\n",
    "    sig<-par[3]\n",
    "    result<-(-((n / 2) * log(sig^2)) - ((n / 2) * log(2 * pi)) - ((1 / (2 * sig^2))) * sum((y-B0-(B1*x))^2))\n",
    "    return(-result)\n",
    "}\n",
    "xsim<-rnorm(100,4,2)\n",
    "ysim<-4+2*(xsim) + rnorm(100,0,1)\n",
    "mle<-optim(par=c(1,1,0.5),fn=neglikreg,y=ysim,x=xsim)\n",
    "mle$par\n"
   ]
  },
  {
   "cell_type": "code",
   "execution_count": 36,
   "id": "af87c110",
   "metadata": {},
   "outputs": [
    {
     "data": {
      "text/html": [
       "<style>\n",
       ".list-inline {list-style: none; margin:0; padding: 0}\n",
       ".list-inline>li {display: inline-block}\n",
       ".list-inline>li:not(:last-child)::after {content: \"\\00b7\"; padding: 0 .5ex}\n",
       "</style>\n",
       "<ol class=list-inline><li>4.29268593671761</li><li>1.95664530466414</li><li>0.954332825285219</li></ol>\n"
      ],
      "text/latex": [
       "\\begin{enumerate*}\n",
       "\\item 4.29268593671761\n",
       "\\item 1.95664530466414\n",
       "\\item 0.954332825285219\n",
       "\\end{enumerate*}\n"
      ],
      "text/markdown": [
       "1. 4.29268593671761\n",
       "2. 1.95664530466414\n",
       "3. 0.954332825285219\n",
       "\n",
       "\n"
      ],
      "text/plain": [
       "[1] 4.2926859 1.9566453 0.9543328"
      ]
     },
     "metadata": {},
     "output_type": "display_data"
    },
    {
     "data": {
      "text/plain": [
       "\n",
       "Call:\n",
       "lm(formula = ysim ~ xsim)\n",
       "\n",
       "Residuals:\n",
       "     Min       1Q   Median       3Q      Max \n",
       "-2.16780 -0.72858  0.05884  0.54152  2.46220 \n",
       "\n",
       "Coefficients:\n",
       "            Estimate Std. Error t value Pr(>|t|)    \n",
       "(Intercept)  4.29293    0.22285   19.26   <2e-16 ***\n",
       "xsim         1.95660    0.04746   41.23   <2e-16 ***\n",
       "---\n",
       "Signif. codes:  0 '***' 0.001 '**' 0.01 '*' 0.05 '.' 0.1 ' ' 1\n",
       "\n",
       "Residual standard error: 0.9639 on 98 degrees of freedom\n",
       "Multiple R-squared:  0.9455,\tAdjusted R-squared:  0.9449 \n",
       "F-statistic:  1700 on 1 and 98 DF,  p-value: < 2.2e-16\n"
      ]
     },
     "metadata": {},
     "output_type": "display_data"
    }
   ],
   "source": [
    "neglikreg<-function(par,y,x){\n",
    "    n<-length(x)\n",
    "    B0<-par[1]\n",
    "    B1<-par[2]\n",
    "    sig<-par[3]\n",
    "    result<-(-((n / 2) * log(sig^2)) - ((n / 2) * log(2 * pi)) - ((1 / (2 * sig^2))) * sum((y-B0-(B1*x))^2))\n",
    "    return(-result)\n",
    "}\n",
    "xsim<-rnorm(100,4,2)\n",
    "ysim<-4+2*(xsim) + rnorm(100,0,1)\n",
    "mle<-optim(par=c(1,2,3),fn=neglikreg,y=ysim,x=xsim)\n",
    "mle$par\n",
    "model<-lm(ysim~xsim)\n",
    "summary(model)"
   ]
  },
  {
   "cell_type": "code",
   "execution_count": null,
   "id": "03a30933",
   "metadata": {},
   "outputs": [],
   "source": []
  },
  {
   "cell_type": "code",
   "execution_count": null,
   "id": "ebc711ee",
   "metadata": {},
   "outputs": [],
   "source": []
  }
 ],
 "metadata": {
  "kernelspec": {
   "display_name": "R",
   "language": "R",
   "name": "ir"
  },
  "language_info": {
   "codemirror_mode": "r",
   "file_extension": ".r",
   "mimetype": "text/x-r-source",
   "name": "R",
   "pygments_lexer": "r",
   "version": "4.3.0"
  }
 },
 "nbformat": 4,
 "nbformat_minor": 5
}
