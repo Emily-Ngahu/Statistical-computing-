{
 "cells": [
  {
   "cell_type": "code",
   "execution_count": 3,
   "id": "0ae10c0a",
   "metadata": {},
   "outputs": [
    {
     "data": {
      "text/html": [
       "<pre class=language-r><code>function (a, b, x) \n",
       "{\n",
       "<span style=white-space:pre-wrap>    args &lt;- lapply(as.list(match.call())[-1L], eval, parent.frame())</span>\n",
       "<span style=white-space:pre-wrap>    names &lt;- if (is.null(names(args))) </span>\n",
       "<span style=white-space:pre-wrap>        character(length(args))</span>\n",
       "<span style=white-space:pre-wrap>    else names(args)</span>\n",
       "<span style=white-space:pre-wrap>    dovec &lt;- names %in% vectorize.args</span>\n",
       "<span style=white-space:pre-wrap>    do.call(\"mapply\", c(FUN = FUN, args[dovec], MoreArgs = list(args[!dovec]), </span>\n",
       "<span style=white-space:pre-wrap>        SIMPLIFY = SIMPLIFY, USE.NAMES = USE.NAMES))</span>\n",
       "}</code></pre>"
      ],
      "text/latex": [
       "\\begin{minted}{r}\n",
       "function (a, b, x) \n",
       "\\{\n",
       "    args <- lapply(as.list(match.call()){[}-1L{]}, eval, parent.frame())\n",
       "    names <- if (is.null(names(args))) \n",
       "        character(length(args))\n",
       "    else names(args)\n",
       "    dovec <- names \\%in\\% vectorize.args\n",
       "    do.call(\"mapply\", c(FUN = FUN, args{[}dovec{]}, MoreArgs = list(args{[}!dovec{]}), \n",
       "        SIMPLIFY = SIMPLIFY, USE.NAMES = USE.NAMES))\n",
       "\\}\n",
       "\\end{minted}"
      ],
      "text/markdown": [
       "```r\n",
       "function (a, b, x) \n",
       "{\n",
       "    args <- lapply(as.list(match.call())[-1L], eval, parent.frame())\n",
       "    names <- if (is.null(names(args))) \n",
       "        character(length(args))\n",
       "    else names(args)\n",
       "    dovec <- names %in% vectorize.args\n",
       "    do.call(\"mapply\", c(FUN = FUN, args[dovec], MoreArgs = list(args[!dovec]), \n",
       "        SIMPLIFY = SIMPLIFY, USE.NAMES = USE.NAMES))\n",
       "}\n",
       "```"
      ],
      "text/plain": [
       "function (a, b, x) \n",
       "{\n",
       "    args <- lapply(as.list(match.call())[-1L], eval, parent.frame())\n",
       "    names <- if (is.null(names(args))) \n",
       "        character(length(args))\n",
       "    else names(args)\n",
       "    dovec <- names %in% vectorize.args\n",
       "    do.call(\"mapply\", c(FUN = FUN, args[dovec], MoreArgs = list(args[!dovec]), \n",
       "        SIMPLIFY = SIMPLIFY, USE.NAMES = USE.NAMES))\n",
       "}\n",
       "<environment: 0x000001b4018af158>"
      ]
     },
     "metadata": {},
     "output_type": "display_data"
    }
   ],
   "source": [
    "fx<-function(a,b,x){\n",
    "    res<-(x-a)/b\n",
    "    return(res)\n",
    "}\n",
    "output<-Vectorize (fx)\n",
    "output"
   ]
  },
  {
   "cell_type": "code",
   "execution_count": 4,
   "id": "9a737c94",
   "metadata": {},
   "outputs": [
    {
     "data": {
      "text/html": [
       "<style>\n",
       ".list-inline {list-style: none; margin:0; padding: 0}\n",
       ".list-inline>li {display: inline-block}\n",
       ".list-inline>li:not(:last-child)::after {content: \"\\00b7\"; padding: 0 .5ex}\n",
       "</style>\n",
       "<ol class=list-inline><li>4</li><li>3</li><li>1.33333333333333</li></ol>\n"
      ],
      "text/latex": [
       "\\begin{enumerate*}\n",
       "\\item 4\n",
       "\\item 3\n",
       "\\item 1.33333333333333\n",
       "\\end{enumerate*}\n"
      ],
      "text/markdown": [
       "1. 4\n",
       "2. 3\n",
       "3. 1.33333333333333\n",
       "\n",
       "\n"
      ],
      "text/plain": [
       "[1] 4.000000 3.000000 1.333333"
      ]
     },
     "metadata": {},
     "output_type": "display_data"
    }
   ],
   "source": [
    "output(c(2,3,4),c(1,2,3),c(6,9,8))"
   ]
  },
  {
   "cell_type": "code",
   "execution_count": 9,
   "id": "82e9fb55",
   "metadata": {},
   "outputs": [
    {
     "data": {
      "text/html": [
       "9008.58946156975"
      ],
      "text/latex": [
       "9008.58946156975"
      ],
      "text/markdown": [
       "9008.58946156975"
      ],
      "text/plain": [
       "[1] 9008.589"
      ]
     },
     "metadata": {},
     "output_type": "display_data"
    }
   ],
   "source": [
    "n<-10000\n",
    "x<-runif(n,0,30)\n",
    "fx<-((x^2)+(3*x)/((3*x)+1))\n",
    "integral<-mean(fx) *30\n",
    "integral"
   ]
  },
  {
   "cell_type": "code",
   "execution_count": 17,
   "id": "aeaf71a7",
   "metadata": {},
   "outputs": [
    {
     "data": {
      "text/html": [
       "<strong>2.5%:</strong> 3.03260214779419"
      ],
      "text/latex": [
       "\\textbf{2.5\\textbackslash{}\\%:} 3.03260214779419"
      ],
      "text/markdown": [
       "**2.5%:** 3.03260214779419"
      ],
      "text/plain": [
       "    2.5% \n",
       "3.032602 "
      ]
     },
     "metadata": {},
     "output_type": "display_data"
    },
    {
     "data": {
      "text/html": [
       "<strong>97.5%:</strong> 6.91238295727367"
      ],
      "text/latex": [
       "\\textbf{97.5\\textbackslash{}\\%:} 6.91238295727367"
      ],
      "text/markdown": [
       "**97.5%:** 6.91238295727367"
      ],
      "text/plain": [
       "   97.5% \n",
       "6.912383 "
      ]
     },
     "metadata": {},
     "output_type": "display_data"
    },
    {
     "data": {
      "text/plain": [
       "\n",
       "Call:\n",
       "lm(formula = Yi ~ theta)\n",
       "\n",
       "Residuals:\n",
       "     Min       1Q   Median       3Q      Max \n",
       "-2.45860 -0.53183 -0.02603  0.50399  2.87244 \n",
       "\n",
       "Coefficients:\n",
       "            Estimate Std. Error t value Pr(>|t|)    \n",
       "(Intercept)  0.11188    0.09654   1.159    0.249    \n",
       "theta        4.91320    0.92795   5.295 7.31e-07 ***\n",
       "---\n",
       "Signif. codes:  0 '***' 0.001 '**' 0.01 '*' 0.05 '.' 0.1 ' ' 1\n",
       "\n",
       "Residual standard error: 0.9534 on 98 degrees of freedom\n",
       "Multiple R-squared:  0.2224,\tAdjusted R-squared:  0.2145 \n",
       "F-statistic: 28.03 on 1 and 98 DF,  p-value: 7.307e-07\n"
      ]
     },
     "metadata": {},
     "output_type": "display_data"
    }
   ],
   "source": [
    "coefficients <- numeric(1000)\n",
    "for (i in 1:1000) {\n",
    "    i_values <- 1:100\n",
    "    theta <- 1 / (i_values^2)\n",
    "    Zi <- rnorm(100, mean = theta, sd = 1)\n",
    "    Yi <- 4 * theta + Zi\n",
    "    model <- lm(Yi ~ theta)\n",
    "    coefficients[i] <- coef(model)[\"theta\"]\n",
    "    lower <- quantile(coefficients, 0.025)\n",
    "    upper <- quantile(coefficients, 0.975)\n",
    "}\n",
    "lower\n",
    "upper\n",
    "summary(model)"
   ]
  },
  {
   "cell_type": "code",
   "execution_count": 25,
   "id": "5041276e",
   "metadata": {},
   "outputs": [
    {
     "data": {
      "text/html": [
       "<pre class=language-r><code>function (x) \n",
       "{\n",
       "<span style=white-space:pre-wrap>    args &lt;- lapply(as.list(match.call())[-1L], eval, parent.frame())</span>\n",
       "<span style=white-space:pre-wrap>    names &lt;- if (is.null(names(args))) </span>\n",
       "<span style=white-space:pre-wrap>        character(length(args))</span>\n",
       "<span style=white-space:pre-wrap>    else names(args)</span>\n",
       "<span style=white-space:pre-wrap>    dovec &lt;- names %in% vectorize.args</span>\n",
       "<span style=white-space:pre-wrap>    do.call(\"mapply\", c(FUN = FUN, args[dovec], MoreArgs = list(args[!dovec]), </span>\n",
       "<span style=white-space:pre-wrap>        SIMPLIFY = SIMPLIFY, USE.NAMES = USE.NAMES))</span>\n",
       "}</code></pre>"
      ],
      "text/latex": [
       "\\begin{minted}{r}\n",
       "function (x) \n",
       "\\{\n",
       "    args <- lapply(as.list(match.call()){[}-1L{]}, eval, parent.frame())\n",
       "    names <- if (is.null(names(args))) \n",
       "        character(length(args))\n",
       "    else names(args)\n",
       "    dovec <- names \\%in\\% vectorize.args\n",
       "    do.call(\"mapply\", c(FUN = FUN, args{[}dovec{]}, MoreArgs = list(args{[}!dovec{]}), \n",
       "        SIMPLIFY = SIMPLIFY, USE.NAMES = USE.NAMES))\n",
       "\\}\n",
       "\\end{minted}"
      ],
      "text/markdown": [
       "```r\n",
       "function (x) \n",
       "{\n",
       "    args <- lapply(as.list(match.call())[-1L], eval, parent.frame())\n",
       "    names <- if (is.null(names(args))) \n",
       "        character(length(args))\n",
       "    else names(args)\n",
       "    dovec <- names %in% vectorize.args\n",
       "    do.call(\"mapply\", c(FUN = FUN, args[dovec], MoreArgs = list(args[!dovec]), \n",
       "        SIMPLIFY = SIMPLIFY, USE.NAMES = USE.NAMES))\n",
       "}\n",
       "```"
      ],
      "text/plain": [
       "function (x) \n",
       "{\n",
       "    args <- lapply(as.list(match.call())[-1L], eval, parent.frame())\n",
       "    names <- if (is.null(names(args))) \n",
       "        character(length(args))\n",
       "    else names(args)\n",
       "    dovec <- names %in% vectorize.args\n",
       "    do.call(\"mapply\", c(FUN = FUN, args[dovec], MoreArgs = list(args[!dovec]), \n",
       "        SIMPLIFY = SIMPLIFY, USE.NAMES = USE.NAMES))\n",
       "}\n",
       "<environment: 0x000001b405374050>"
      ]
     },
     "metadata": {},
     "output_type": "display_data"
    },
    {
     "data": {
      "text/html": [
       "<style>\n",
       ".list-inline {list-style: none; margin:0; padding: 0}\n",
       ".list-inline>li {display: inline-block}\n",
       ".list-inline>li:not(:last-child)::after {content: \"\\00b7\"; padding: 0 .5ex}\n",
       "</style>\n",
       "<ol class=list-inline><li>-1</li><li>1</li><li>0</li><li>0</li><li>0</li><li>0</li><li>1</li><li>1</li><li>1</li></ol>\n"
      ],
      "text/latex": [
       "\\begin{enumerate*}\n",
       "\\item -1\n",
       "\\item 1\n",
       "\\item 0\n",
       "\\item 0\n",
       "\\item 0\n",
       "\\item 0\n",
       "\\item 1\n",
       "\\item 1\n",
       "\\item 1\n",
       "\\end{enumerate*}\n"
      ],
      "text/markdown": [
       "1. -1\n",
       "2. 1\n",
       "3. 0\n",
       "4. 0\n",
       "5. 0\n",
       "6. 0\n",
       "7. 1\n",
       "8. 1\n",
       "9. 1\n",
       "\n",
       "\n"
      ],
      "text/plain": [
       "[1] -1  1  0  0  0  0  1  1  1"
      ]
     },
     "metadata": {},
     "output_type": "display_data"
    }
   ],
   "source": [
    "Haar<-function(x){\n",
    "    if (x>=0 & x<0.5){\n",
    "        return(1)\n",
    "    }else if (x>=0.5 & x<=1){\n",
    "        return(-1)\n",
    "    }else{\n",
    "        return(0)\n",
    "    }\n",
    "}\n",
    "output<-Vectorize(Haar)\n",
    "output\n",
    "numbers<-c(0.77,0.11,-0.17,-0.48,-0.45,-0.45,0.48,0.32,0.18)\n",
    "output(numbers)"
   ]
  },
  {
   "cell_type": "code",
   "execution_count": 29,
   "id": "f7233c46",
   "metadata": {},
   "outputs": [
    {
     "ename": "ERROR",
     "evalue": "Error in parse(text = x, srcfile = src): <text>:2:10: unexpected ':'\n1: fx<-function(n,B0,B1,B2,mx1,mx2,sdx2,me,sde){\n2:     for(i:\n            ^\n",
     "output_type": "error",
     "traceback": [
      "Error in parse(text = x, srcfile = src): <text>:2:10: unexpected ':'\n1: fx<-function(n,B0,B1,B2,mx1,mx2,sdx2,me,sde){\n2:     for(i:\n            ^\nTraceback:\n"
     ]
    }
   ],
   "source": [
    "fx<-function(n,B0,B1,B2,mx1,mx2,sdx2,me,sde){\n",
    "    for(i:1000){\n",
    "        x1<-rt(n,mx1)\n",
    "        x2<-runif(n,mx2,sdx2)\n",
    "        e<-runif(n,me,sde)\n",
    "        Y<-B0+(B1*x1)+(B2*x2)+e\n",
    "        return(Y)\n",
    "        model<-lm(Y~x1+x2)\n",
    "    }\n",
    "}\n",
    "summary(model)\n",
    "fx(100,4,2.5,1.87,4,130,200,0,1)"
   ]
  },
  {
   "cell_type": "code",
   "execution_count": 30,
   "id": "17f5f3a1",
   "metadata": {},
   "outputs": [
    {
     "data": {
      "text/html": [
       "0.0712692311936432"
      ],
      "text/latex": [
       "0.0712692311936432"
      ],
      "text/markdown": [
       "0.0712692311936432"
      ],
      "text/plain": [
       "[1] 0.07126923"
      ]
     },
     "metadata": {},
     "output_type": "display_data"
    }
   ],
   "source": [
    "pexp(5, rate = 0.125) - pexp(4, rate = 0.125)"
   ]
  },
  {
   "cell_type": "code",
   "execution_count": 35,
   "id": "252d2545",
   "metadata": {},
   "outputs": [
    {
     "data": {
      "text/html": [
       "0.999601328125"
      ],
      "text/latex": [
       "0.999601328125"
      ],
      "text/markdown": [
       "0.999601328125"
      ],
      "text/plain": [
       "[1] 0.9996013"
      ]
     },
     "metadata": {},
     "output_type": "display_data"
    }
   ],
   "source": [
    "pbinom(4,6,0.15)"
   ]
  },
  {
   "cell_type": "code",
   "execution_count": 1,
   "id": "df11755b",
   "metadata": {},
   "outputs": [
    {
     "data": {
      "text/html": [
       "<pre class=language-r><code>function (x, a) \n",
       "{\n",
       "<span style=white-space:pre-wrap>    args &lt;- lapply(as.list(match.call())[-1L], eval, parent.frame())</span>\n",
       "<span style=white-space:pre-wrap>    names &lt;- if (is.null(names(args))) </span>\n",
       "<span style=white-space:pre-wrap>        character(length(args))</span>\n",
       "<span style=white-space:pre-wrap>    else names(args)</span>\n",
       "<span style=white-space:pre-wrap>    dovec &lt;- names %in% vectorize.args</span>\n",
       "<span style=white-space:pre-wrap>    do.call(\"mapply\", c(FUN = FUN, args[dovec], MoreArgs = list(args[!dovec]), </span>\n",
       "<span style=white-space:pre-wrap>        SIMPLIFY = SIMPLIFY, USE.NAMES = USE.NAMES))</span>\n",
       "}</code></pre>"
      ],
      "text/latex": [
       "\\begin{minted}{r}\n",
       "function (x, a) \n",
       "\\{\n",
       "    args <- lapply(as.list(match.call()){[}-1L{]}, eval, parent.frame())\n",
       "    names <- if (is.null(names(args))) \n",
       "        character(length(args))\n",
       "    else names(args)\n",
       "    dovec <- names \\%in\\% vectorize.args\n",
       "    do.call(\"mapply\", c(FUN = FUN, args{[}dovec{]}, MoreArgs = list(args{[}!dovec{]}), \n",
       "        SIMPLIFY = SIMPLIFY, USE.NAMES = USE.NAMES))\n",
       "\\}\n",
       "\\end{minted}"
      ],
      "text/markdown": [
       "```r\n",
       "function (x, a) \n",
       "{\n",
       "    args <- lapply(as.list(match.call())[-1L], eval, parent.frame())\n",
       "    names <- if (is.null(names(args))) \n",
       "        character(length(args))\n",
       "    else names(args)\n",
       "    dovec <- names %in% vectorize.args\n",
       "    do.call(\"mapply\", c(FUN = FUN, args[dovec], MoreArgs = list(args[!dovec]), \n",
       "        SIMPLIFY = SIMPLIFY, USE.NAMES = USE.NAMES))\n",
       "}\n",
       "```"
      ],
      "text/plain": [
       "function (x, a) \n",
       "{\n",
       "    args <- lapply(as.list(match.call())[-1L], eval, parent.frame())\n",
       "    names <- if (is.null(names(args))) \n",
       "        character(length(args))\n",
       "    else names(args)\n",
       "    dovec <- names %in% vectorize.args\n",
       "    do.call(\"mapply\", c(FUN = FUN, args[dovec], MoreArgs = list(args[!dovec]), \n",
       "        SIMPLIFY = SIMPLIFY, USE.NAMES = USE.NAMES))\n",
       "}\n",
       "<environment: 0x0000020b4fc82230>"
      ]
     },
     "metadata": {},
     "output_type": "display_data"
    },
    {
     "data": {
      "text/html": [
       "<style>\n",
       ".list-inline {list-style: none; margin:0; padding: 0}\n",
       ".list-inline>li {display: inline-block}\n",
       ".list-inline>li:not(:last-child)::after {content: \"\\00b7\"; padding: 0 .5ex}\n",
       "</style>\n",
       "<ol class=list-inline><li>0.5929</li><li>0.0121</li><li>0.0289</li><li>0.2304</li><li>0.2025</li><li>0.2025</li><li>0.2304</li><li>0.1024</li><li>0.0324</li></ol>\n"
      ],
      "text/latex": [
       "\\begin{enumerate*}\n",
       "\\item 0.5929\n",
       "\\item 0.0121\n",
       "\\item 0.0289\n",
       "\\item 0.2304\n",
       "\\item 0.2025\n",
       "\\item 0.2025\n",
       "\\item 0.2304\n",
       "\\item 0.1024\n",
       "\\item 0.0324\n",
       "\\end{enumerate*}\n"
      ],
      "text/markdown": [
       "1. 0.5929\n",
       "2. 0.0121\n",
       "3. 0.0289\n",
       "4. 0.2304\n",
       "5. 0.2025\n",
       "6. 0.2025\n",
       "7. 0.2304\n",
       "8. 0.1024\n",
       "9. 0.0324\n",
       "\n",
       "\n"
      ],
      "text/plain": [
       "[1] 0.5929 0.0121 0.0289 0.2304 0.2025 0.2025 0.2304 0.1024 0.0324"
      ]
     },
     "metadata": {},
     "output_type": "display_data"
    },
    {
     "data": {
      "image/png": "[encoded data removed]",
      "text/plain": [
       "plot without title"
      ]
     },
     "metadata": {
      "image/png": {
       "height": 420,
       "width": 420
      }
     },
     "output_type": "display_data"
    }
   ],
   "source": [
    "Huber<-function(x,a){\n",
    "    if (abs(x)<=a){\n",
    "        return(x^2)\n",
    "    } else if (abs(x)>a){\n",
    "        return((2*a*abs(x))-a^2)\n",
    "    }else{\n",
    "        return(0)\n",
    "    }\n",
    "}\n",
    "output<-Vectorize(Huber)\n",
    "output\n",
    "x<-c(0.77,0.11,-0.17,-0.48,-0.45,-0.45,0.48,0.32,0.18)\n",
    "a<-rep(1,9)\n",
    "result<-output(x,a)\n",
    "result\n",
    "plot(x,result)"
   ]
  },
  {
   "cell_type": "code",
   "execution_count": 44,
   "id": "a6356641",
   "metadata": {},
   "outputs": [
    {
     "data": {
      "text/html": [
       "0.1573"
      ],
      "text/latex": [
       "0.1573"
      ],
      "text/markdown": [
       "0.1573"
      ],
      "text/plain": [
       "[1] 0.1573"
      ]
     },
     "metadata": {},
     "output_type": "display_data"
    }
   ],
   "source": [
    "Huber<-function(x,a){\n",
    "    if (abs(x)<=a){\n",
    "        return(x^2)\n",
    "    } else if (abs(x)>a){\n",
    "        return((2*a*abs(x))-a^2)\n",
    "    }else{\n",
    "        return(0)\n",
    "    }\n",
    "}\n",
    "Huber(0.77,0.11)"
   ]
  },
  {
   "cell_type": "code",
   "execution_count": null,
   "id": "895393eb",
   "metadata": {},
   "outputs": [],
   "source": [
    "fx<-function(mx1,sdx1,mx2,mx3,sdx3){\n",
    "    x1<-runif(500,0,1)\n",
    "    x2<-rt(500,4)\n",
    "    x3<-runif(500,4,7)\n",
    "    n<-length(x1)\n",
    "    varmean<-\n",
    "}"
   ]
  },
  {
   "cell_type": "code",
   "execution_count": null,
   "id": "f85defad",
   "metadata": {},
   "outputs": [],
   "source": []
  },
  {
   "cell_type": "code",
   "execution_count": null,
   "id": "93ec0183",
   "metadata": {},
   "outputs": [],
   "source": []
  }
 ],
 "metadata": {
  "kernelspec": {
   "display_name": "R",
   "language": "R",
   "name": "ir"
  },
  "language_info": {
   "codemirror_mode": "r",
   "file_extension": ".r",
   "mimetype": "text/x-r-source",
   "name": "R",
   "pygments_lexer": "r",
   "version": "4.3.0"
  }
 },
 "nbformat": 4,
 "nbformat_minor": 5
}
